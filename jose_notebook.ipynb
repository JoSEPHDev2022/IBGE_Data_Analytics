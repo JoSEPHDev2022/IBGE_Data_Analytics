{
 "cells": [
  {
   "attachments": {},
   "cell_type": "markdown",
   "metadata": {},
   "source": [
    "# Análise Exploratória de Dados: IBGE"
   ]
  },
  {
   "attachments": {},
   "cell_type": "markdown",
   "metadata": {},
   "source": [
    "<h1>\n",
    "    <p align=\"center\">\n",
    "        Work in Progress 🛠️\n",
    "    </p>\n",
    "</h1>"
   ]
  },
  {
   "attachments": {},
   "cell_type": "markdown",
   "metadata": {},
   "source": [
    "Objetivos:\n",
    "\n",
    "- Realizar uma análise focada nas variáveis referentes a população brasileira e alguns índices econômicos;\n",
    "\n",
    "Algumas possibilidades: \n",
    "\n",
    "- Comparativos entre estados ou regiões do Brasil no quesito populacional e/ou econômico;\n",
    "- Procurar entender quais os estados com os municípios mais ricos, mais populosos, com mais imigrantes;\n",
    "- Rankeamento desses estados com base em alguns KPI's (GDP, IDH, População total);\n",
    "- Um dado interessante para a análise também pode ser a distribuição de carros/motos por cidadão.\n",
    "- Divisão etária da população desses estados, buscando quais os de população mais jovem e velha na média;"
   ]
  },
  {
   "attachments": {},
   "cell_type": "markdown",
   "metadata": {},
   "source": [
    "## Puxando dados e selecionando variáveis necessárias"
   ]
  },
  {
   "cell_type": "code",
   "execution_count": 1,
   "metadata": {},
   "outputs": [
    {
     "name": "stdout",
     "output_type": "stream",
     "text": [
      "Pacotes prontos!\n"
     ]
    }
   ],
   "source": [
    "# Importando pacotes:\n",
    "import pandas as pd\n",
    "import numpy as np\n",
    "import matplotlib.pyplot as plt\n",
    "import seaborn as sns\n",
    "\n",
    "# Definindo parâmetros de tamanho das figuras do Seaborn:\n",
    "sns.set(rc={'figure.figsize':(12,8)})\n",
    "sns.set(style=\"darkgrid\")\n",
    "\n",
    "print('Pacotes prontos!')"
   ]
  },
  {
   "cell_type": "code",
   "execution_count": 2,
   "metadata": {},
   "outputs": [],
   "source": [
    "# Criando dataframe:\n",
    "data = pd.read_csv('data/BRAZIL_CITIES.csv', sep=';')"
   ]
  },
  {
   "cell_type": "code",
   "execution_count": 3,
   "metadata": {},
   "outputs": [
    {
     "data": {
      "text/html": [
       "<div>\n",
       "<style scoped>\n",
       "    .dataframe tbody tr th:only-of-type {\n",
       "        vertical-align: middle;\n",
       "    }\n",
       "\n",
       "    .dataframe tbody tr th {\n",
       "        vertical-align: top;\n",
       "    }\n",
       "\n",
       "    .dataframe thead th {\n",
       "        text-align: right;\n",
       "    }\n",
       "</style>\n",
       "<table border=\"1\" class=\"dataframe\">\n",
       "  <thead>\n",
       "    <tr style=\"text-align: right;\">\n",
       "      <th></th>\n",
       "      <th>CITY</th>\n",
       "      <th>STATE</th>\n",
       "      <th>CAPITAL</th>\n",
       "      <th>IBGE_RES_POP</th>\n",
       "      <th>IBGE_RES_POP_BRAS</th>\n",
       "      <th>IBGE_RES_POP_ESTR</th>\n",
       "      <th>IBGE_DU</th>\n",
       "      <th>IBGE_DU_URBAN</th>\n",
       "      <th>IBGE_DU_RURAL</th>\n",
       "      <th>IBGE_POP</th>\n",
       "      <th>...</th>\n",
       "      <th>Pu_Bank</th>\n",
       "      <th>Pr_Assets</th>\n",
       "      <th>Pu_Assets</th>\n",
       "      <th>Cars</th>\n",
       "      <th>Motorcycles</th>\n",
       "      <th>Wheeled_tractor</th>\n",
       "      <th>UBER</th>\n",
       "      <th>MAC</th>\n",
       "      <th>WAL-MART</th>\n",
       "      <th>POST_OFFICES</th>\n",
       "    </tr>\n",
       "  </thead>\n",
       "  <tbody>\n",
       "    <tr>\n",
       "      <th>0</th>\n",
       "      <td>Abadia De Goiás</td>\n",
       "      <td>GO</td>\n",
       "      <td>0</td>\n",
       "      <td>6876.0</td>\n",
       "      <td>6876.0</td>\n",
       "      <td>0.0</td>\n",
       "      <td>2137.0</td>\n",
       "      <td>1546.0</td>\n",
       "      <td>591.0</td>\n",
       "      <td>5300.0</td>\n",
       "      <td>...</td>\n",
       "      <td>NaN</td>\n",
       "      <td>NaN</td>\n",
       "      <td>NaN</td>\n",
       "      <td>2158.0</td>\n",
       "      <td>1246.0</td>\n",
       "      <td>0.0</td>\n",
       "      <td>NaN</td>\n",
       "      <td>NaN</td>\n",
       "      <td>NaN</td>\n",
       "      <td>1.0</td>\n",
       "    </tr>\n",
       "    <tr>\n",
       "      <th>1</th>\n",
       "      <td>Abadia Dos Dourados</td>\n",
       "      <td>MG</td>\n",
       "      <td>0</td>\n",
       "      <td>6704.0</td>\n",
       "      <td>6704.0</td>\n",
       "      <td>0.0</td>\n",
       "      <td>2328.0</td>\n",
       "      <td>1481.0</td>\n",
       "      <td>847.0</td>\n",
       "      <td>4154.0</td>\n",
       "      <td>...</td>\n",
       "      <td>NaN</td>\n",
       "      <td>NaN</td>\n",
       "      <td>NaN</td>\n",
       "      <td>2227.0</td>\n",
       "      <td>1142.0</td>\n",
       "      <td>0.0</td>\n",
       "      <td>NaN</td>\n",
       "      <td>NaN</td>\n",
       "      <td>NaN</td>\n",
       "      <td>1.0</td>\n",
       "    </tr>\n",
       "    <tr>\n",
       "      <th>2</th>\n",
       "      <td>Abadiânia</td>\n",
       "      <td>GO</td>\n",
       "      <td>0</td>\n",
       "      <td>15757.0</td>\n",
       "      <td>15609.0</td>\n",
       "      <td>148.0</td>\n",
       "      <td>4655.0</td>\n",
       "      <td>3233.0</td>\n",
       "      <td>1422.0</td>\n",
       "      <td>10656.0</td>\n",
       "      <td>...</td>\n",
       "      <td>1.0</td>\n",
       "      <td>33724584.0</td>\n",
       "      <td>67091904.0</td>\n",
       "      <td>2838.0</td>\n",
       "      <td>1426.0</td>\n",
       "      <td>0.0</td>\n",
       "      <td>NaN</td>\n",
       "      <td>NaN</td>\n",
       "      <td>NaN</td>\n",
       "      <td>3.0</td>\n",
       "    </tr>\n",
       "    <tr>\n",
       "      <th>3</th>\n",
       "      <td>Abaeté</td>\n",
       "      <td>MG</td>\n",
       "      <td>0</td>\n",
       "      <td>22690.0</td>\n",
       "      <td>22690.0</td>\n",
       "      <td>0.0</td>\n",
       "      <td>7694.0</td>\n",
       "      <td>6667.0</td>\n",
       "      <td>1027.0</td>\n",
       "      <td>18464.0</td>\n",
       "      <td>...</td>\n",
       "      <td>2.0</td>\n",
       "      <td>44974716.0</td>\n",
       "      <td>371922572.0</td>\n",
       "      <td>6928.0</td>\n",
       "      <td>2953.0</td>\n",
       "      <td>0.0</td>\n",
       "      <td>NaN</td>\n",
       "      <td>NaN</td>\n",
       "      <td>NaN</td>\n",
       "      <td>4.0</td>\n",
       "    </tr>\n",
       "    <tr>\n",
       "      <th>4</th>\n",
       "      <td>Abaetetuba</td>\n",
       "      <td>PA</td>\n",
       "      <td>0</td>\n",
       "      <td>141100.0</td>\n",
       "      <td>141040.0</td>\n",
       "      <td>60.0</td>\n",
       "      <td>31061.0</td>\n",
       "      <td>19057.0</td>\n",
       "      <td>12004.0</td>\n",
       "      <td>82956.0</td>\n",
       "      <td>...</td>\n",
       "      <td>4.0</td>\n",
       "      <td>76181384.0</td>\n",
       "      <td>800078483.0</td>\n",
       "      <td>5277.0</td>\n",
       "      <td>25661.0</td>\n",
       "      <td>0.0</td>\n",
       "      <td>NaN</td>\n",
       "      <td>NaN</td>\n",
       "      <td>NaN</td>\n",
       "      <td>2.0</td>\n",
       "    </tr>\n",
       "  </tbody>\n",
       "</table>\n",
       "<p>5 rows × 81 columns</p>\n",
       "</div>"
      ],
      "text/plain": [
       "                  CITY STATE  CAPITAL  IBGE_RES_POP  IBGE_RES_POP_BRAS  \\\n",
       "0      Abadia De Goiás    GO        0        6876.0             6876.0   \n",
       "1  Abadia Dos Dourados    MG        0        6704.0             6704.0   \n",
       "2            Abadiânia    GO        0       15757.0            15609.0   \n",
       "3               Abaeté    MG        0       22690.0            22690.0   \n",
       "4           Abaetetuba    PA        0      141100.0           141040.0   \n",
       "\n",
       "   IBGE_RES_POP_ESTR  IBGE_DU  IBGE_DU_URBAN  IBGE_DU_RURAL  IBGE_POP  ...  \\\n",
       "0                0.0   2137.0         1546.0          591.0    5300.0  ...   \n",
       "1                0.0   2328.0         1481.0          847.0    4154.0  ...   \n",
       "2              148.0   4655.0         3233.0         1422.0   10656.0  ...   \n",
       "3                0.0   7694.0         6667.0         1027.0   18464.0  ...   \n",
       "4               60.0  31061.0        19057.0        12004.0   82956.0  ...   \n",
       "\n",
       "   Pu_Bank   Pr_Assets    Pu_Assets    Cars  Motorcycles  Wheeled_tractor  \\\n",
       "0      NaN         NaN          NaN  2158.0       1246.0              0.0   \n",
       "1      NaN         NaN          NaN  2227.0       1142.0              0.0   \n",
       "2      1.0  33724584.0   67091904.0  2838.0       1426.0              0.0   \n",
       "3      2.0  44974716.0  371922572.0  6928.0       2953.0              0.0   \n",
       "4      4.0  76181384.0  800078483.0  5277.0      25661.0              0.0   \n",
       "\n",
       "   UBER  MAC  WAL-MART  POST_OFFICES  \n",
       "0   NaN  NaN       NaN           1.0  \n",
       "1   NaN  NaN       NaN           1.0  \n",
       "2   NaN  NaN       NaN           3.0  \n",
       "3   NaN  NaN       NaN           4.0  \n",
       "4   NaN  NaN       NaN           2.0  \n",
       "\n",
       "[5 rows x 81 columns]"
      ]
     },
     "execution_count": 3,
     "metadata": {},
     "output_type": "execute_result"
    }
   ],
   "source": [
    "# Visualizando dados:\n",
    "data.head()"
   ]
  },
  {
   "cell_type": "code",
   "execution_count": 4,
   "metadata": {},
   "outputs": [
    {
     "data": {
      "text/plain": [
       "(5573, 81)"
      ]
     },
     "execution_count": 4,
     "metadata": {},
     "output_type": "execute_result"
    }
   ],
   "source": [
    "# Checando shape:\n",
    "data.shape"
   ]
  },
  {
   "attachments": {},
   "cell_type": "markdown",
   "metadata": {},
   "source": [
    "Dados: 5573 Registros em 81 Variáveis"
   ]
  },
  {
   "cell_type": "code",
   "execution_count": 5,
   "metadata": {},
   "outputs": [
    {
     "data": {
      "text/plain": [
       "Index(['CITY', 'STATE', 'CAPITAL', 'IBGE_RES_POP', 'IBGE_RES_POP_BRAS',\n",
       "       'IBGE_RES_POP_ESTR', 'IBGE_DU', 'IBGE_DU_URBAN', 'IBGE_DU_RURAL',\n",
       "       'IBGE_POP', 'IBGE_1', 'IBGE_1-4', 'IBGE_5-9', 'IBGE_10-14',\n",
       "       'IBGE_15-59', 'IBGE_60+', 'IBGE_PLANTED_AREA', 'IBGE_CROP_PRODUCTION_$',\n",
       "       'IDHM Ranking 2010', 'IDHM', 'IDHM_Renda', 'IDHM_Longevidade',\n",
       "       'IDHM_Educacao', 'LONG', 'LAT', 'ALT', 'PAY_TV', 'FIXED_PHONES', 'AREA',\n",
       "       'REGIAO_TUR', 'CATEGORIA_TUR', 'ESTIMATED_POP', 'RURAL_URBAN',\n",
       "       'GVA_AGROPEC', 'GVA_INDUSTRY', 'GVA_SERVICES', 'GVA_PUBLIC',\n",
       "       ' GVA_TOTAL ', 'TAXES', 'GDP', 'POP_GDP', 'GDP_CAPITA', 'GVA_MAIN',\n",
       "       'MUN_EXPENDIT', 'COMP_TOT', 'COMP_A', 'COMP_B', 'COMP_C', 'COMP_D',\n",
       "       'COMP_E', 'COMP_F', 'COMP_G', 'COMP_H', 'COMP_I', 'COMP_J', 'COMP_K',\n",
       "       'COMP_L', 'COMP_M', 'COMP_N', 'COMP_O', 'COMP_P', 'COMP_Q', 'COMP_R',\n",
       "       'COMP_S', 'COMP_T', 'COMP_U', 'HOTELS', 'BEDS', 'Pr_Agencies',\n",
       "       'Pu_Agencies', 'Pr_Bank', 'Pu_Bank', 'Pr_Assets', 'Pu_Assets', 'Cars',\n",
       "       'Motorcycles', 'Wheeled_tractor', 'UBER', 'MAC', 'WAL-MART',\n",
       "       'POST_OFFICES'],\n",
       "      dtype='object')"
      ]
     },
     "execution_count": 5,
     "metadata": {},
     "output_type": "execute_result"
    }
   ],
   "source": [
    "# Checando colunas:\n",
    "data.columns"
   ]
  },
  {
   "attachments": {},
   "cell_type": "markdown",
   "metadata": {},
   "source": [
    "Antes de nos aprofundarmos mais no Dataset, iremos realizar um corte de variáveis, preservando apenas aquelas que interessam para a análise proposta no início."
   ]
  },
  {
   "cell_type": "code",
   "execution_count": 7,
   "metadata": {},
   "outputs": [],
   "source": [
    "# Selecionando as variáveis que serão relevantes para a análise:\n",
    "data_pop = data.loc[\n",
    "    :,\n",
    "    ['CITY', 'STATE', 'CAPITAL', 'IBGE_RES_POP', 'IBGE_RES_POP_BRAS', 'IBGE_RES_POP_ESTR', 'IBGE_DU', \n",
    "    'IBGE_DU_URBAN', 'IBGE_DU_RURAL', 'IBGE_POP', 'IBGE_1', 'IBGE_1-4', 'IBGE_5-9', 'IBGE_10-14',\n",
    "    'IBGE_15-59', 'IBGE_60+', 'ESTIMATED_POP', 'Cars', 'Motorcycles', 'IDHM', 'IDHM_Renda', \n",
    "    'IDHM_Longevidade', 'IDHM_Educacao', 'TAXES']\n",
    "].copy()\n"
   ]
  },
  {
   "cell_type": "code",
   "execution_count": 8,
   "metadata": {},
   "outputs": [
    {
     "data": {
      "text/html": [
       "<div>\n",
       "<style scoped>\n",
       "    .dataframe tbody tr th:only-of-type {\n",
       "        vertical-align: middle;\n",
       "    }\n",
       "\n",
       "    .dataframe tbody tr th {\n",
       "        vertical-align: top;\n",
       "    }\n",
       "\n",
       "    .dataframe thead th {\n",
       "        text-align: right;\n",
       "    }\n",
       "</style>\n",
       "<table border=\"1\" class=\"dataframe\">\n",
       "  <thead>\n",
       "    <tr style=\"text-align: right;\">\n",
       "      <th></th>\n",
       "      <th>CITY</th>\n",
       "      <th>STATE</th>\n",
       "      <th>CAPITAL</th>\n",
       "      <th>IBGE_RES_POP</th>\n",
       "      <th>IBGE_RES_POP_BRAS</th>\n",
       "      <th>IBGE_RES_POP_ESTR</th>\n",
       "      <th>IBGE_DU</th>\n",
       "      <th>IBGE_DU_URBAN</th>\n",
       "      <th>IBGE_DU_RURAL</th>\n",
       "      <th>IBGE_POP</th>\n",
       "      <th>...</th>\n",
       "      <th>IBGE_15-59</th>\n",
       "      <th>IBGE_60+</th>\n",
       "      <th>ESTIMATED_POP</th>\n",
       "      <th>Cars</th>\n",
       "      <th>Motorcycles</th>\n",
       "      <th>IDHM</th>\n",
       "      <th>IDHM_Renda</th>\n",
       "      <th>IDHM_Longevidade</th>\n",
       "      <th>IDHM_Educacao</th>\n",
       "      <th>TAXES</th>\n",
       "    </tr>\n",
       "  </thead>\n",
       "  <tbody>\n",
       "    <tr>\n",
       "      <th>0</th>\n",
       "      <td>Abadia De Goiás</td>\n",
       "      <td>GO</td>\n",
       "      <td>0</td>\n",
       "      <td>6876.0</td>\n",
       "      <td>6876.0</td>\n",
       "      <td>0.0</td>\n",
       "      <td>2137.0</td>\n",
       "      <td>1546.0</td>\n",
       "      <td>591.0</td>\n",
       "      <td>5300.0</td>\n",
       "      <td>...</td>\n",
       "      <td>3542.0</td>\n",
       "      <td>416.0</td>\n",
       "      <td>8583.0</td>\n",
       "      <td>2158.0</td>\n",
       "      <td>1246.0</td>\n",
       "      <td>0.708</td>\n",
       "      <td>0.687</td>\n",
       "      <td>0.830</td>\n",
       "      <td>0.622</td>\n",
       "      <td>20554.20</td>\n",
       "    </tr>\n",
       "    <tr>\n",
       "      <th>1</th>\n",
       "      <td>Abadia Dos Dourados</td>\n",
       "      <td>MG</td>\n",
       "      <td>0</td>\n",
       "      <td>6704.0</td>\n",
       "      <td>6704.0</td>\n",
       "      <td>0.0</td>\n",
       "      <td>2328.0</td>\n",
       "      <td>1481.0</td>\n",
       "      <td>847.0</td>\n",
       "      <td>4154.0</td>\n",
       "      <td>...</td>\n",
       "      <td>2709.0</td>\n",
       "      <td>589.0</td>\n",
       "      <td>6972.0</td>\n",
       "      <td>2227.0</td>\n",
       "      <td>1142.0</td>\n",
       "      <td>0.690</td>\n",
       "      <td>0.693</td>\n",
       "      <td>0.839</td>\n",
       "      <td>0.563</td>\n",
       "      <td>12873.50</td>\n",
       "    </tr>\n",
       "    <tr>\n",
       "      <th>2</th>\n",
       "      <td>Abadiânia</td>\n",
       "      <td>GO</td>\n",
       "      <td>0</td>\n",
       "      <td>15757.0</td>\n",
       "      <td>15609.0</td>\n",
       "      <td>148.0</td>\n",
       "      <td>4655.0</td>\n",
       "      <td>3233.0</td>\n",
       "      <td>1422.0</td>\n",
       "      <td>10656.0</td>\n",
       "      <td>...</td>\n",
       "      <td>6896.0</td>\n",
       "      <td>990.0</td>\n",
       "      <td>19614.0</td>\n",
       "      <td>2838.0</td>\n",
       "      <td>1426.0</td>\n",
       "      <td>0.690</td>\n",
       "      <td>0.671</td>\n",
       "      <td>0.841</td>\n",
       "      <td>0.579</td>\n",
       "      <td>26822.58</td>\n",
       "    </tr>\n",
       "    <tr>\n",
       "      <th>3</th>\n",
       "      <td>Abaeté</td>\n",
       "      <td>MG</td>\n",
       "      <td>0</td>\n",
       "      <td>22690.0</td>\n",
       "      <td>22690.0</td>\n",
       "      <td>0.0</td>\n",
       "      <td>7694.0</td>\n",
       "      <td>6667.0</td>\n",
       "      <td>1027.0</td>\n",
       "      <td>18464.0</td>\n",
       "      <td>...</td>\n",
       "      <td>11979.0</td>\n",
       "      <td>2681.0</td>\n",
       "      <td>23223.0</td>\n",
       "      <td>6928.0</td>\n",
       "      <td>2953.0</td>\n",
       "      <td>0.698</td>\n",
       "      <td>0.720</td>\n",
       "      <td>0.848</td>\n",
       "      <td>0.556</td>\n",
       "      <td>26994.09</td>\n",
       "    </tr>\n",
       "    <tr>\n",
       "      <th>4</th>\n",
       "      <td>Abaetetuba</td>\n",
       "      <td>PA</td>\n",
       "      <td>0</td>\n",
       "      <td>141100.0</td>\n",
       "      <td>141040.0</td>\n",
       "      <td>60.0</td>\n",
       "      <td>31061.0</td>\n",
       "      <td>19057.0</td>\n",
       "      <td>12004.0</td>\n",
       "      <td>82956.0</td>\n",
       "      <td>...</td>\n",
       "      <td>53516.0</td>\n",
       "      <td>5996.0</td>\n",
       "      <td>156292.0</td>\n",
       "      <td>5277.0</td>\n",
       "      <td>25661.0</td>\n",
       "      <td>0.628</td>\n",
       "      <td>0.579</td>\n",
       "      <td>0.798</td>\n",
       "      <td>0.537</td>\n",
       "      <td>95180.48</td>\n",
       "    </tr>\n",
       "  </tbody>\n",
       "</table>\n",
       "<p>5 rows × 24 columns</p>\n",
       "</div>"
      ],
      "text/plain": [
       "                  CITY STATE  CAPITAL  IBGE_RES_POP  IBGE_RES_POP_BRAS  \\\n",
       "0      Abadia De Goiás    GO        0        6876.0             6876.0   \n",
       "1  Abadia Dos Dourados    MG        0        6704.0             6704.0   \n",
       "2            Abadiânia    GO        0       15757.0            15609.0   \n",
       "3               Abaeté    MG        0       22690.0            22690.0   \n",
       "4           Abaetetuba    PA        0      141100.0           141040.0   \n",
       "\n",
       "   IBGE_RES_POP_ESTR  IBGE_DU  IBGE_DU_URBAN  IBGE_DU_RURAL  IBGE_POP  ...  \\\n",
       "0                0.0   2137.0         1546.0          591.0    5300.0  ...   \n",
       "1                0.0   2328.0         1481.0          847.0    4154.0  ...   \n",
       "2              148.0   4655.0         3233.0         1422.0   10656.0  ...   \n",
       "3                0.0   7694.0         6667.0         1027.0   18464.0  ...   \n",
       "4               60.0  31061.0        19057.0        12004.0   82956.0  ...   \n",
       "\n",
       "   IBGE_15-59  IBGE_60+  ESTIMATED_POP    Cars  Motorcycles   IDHM  \\\n",
       "0      3542.0     416.0         8583.0  2158.0       1246.0  0.708   \n",
       "1      2709.0     589.0         6972.0  2227.0       1142.0  0.690   \n",
       "2      6896.0     990.0        19614.0  2838.0       1426.0  0.690   \n",
       "3     11979.0    2681.0        23223.0  6928.0       2953.0  0.698   \n",
       "4     53516.0    5996.0       156292.0  5277.0      25661.0  0.628   \n",
       "\n",
       "   IDHM_Renda  IDHM_Longevidade  IDHM_Educacao     TAXES  \n",
       "0       0.687             0.830          0.622  20554.20  \n",
       "1       0.693             0.839          0.563  12873.50  \n",
       "2       0.671             0.841          0.579  26822.58  \n",
       "3       0.720             0.848          0.556  26994.09  \n",
       "4       0.579             0.798          0.537  95180.48  \n",
       "\n",
       "[5 rows x 24 columns]"
      ]
     },
     "execution_count": 8,
     "metadata": {},
     "output_type": "execute_result"
    }
   ],
   "source": [
    "# Visualizando novos dados:\n",
    "data_pop.head()"
   ]
  },
  {
   "attachments": {},
   "cell_type": "markdown",
   "metadata": {},
   "source": [
    "Com nossas variáveis selecionadas, podemos dar início propriamente as análises iniciais do Dataset e limpeza."
   ]
  },
  {
   "attachments": {},
   "cell_type": "markdown",
   "metadata": {},
   "source": [
    "## Análise inicial e conhecendo os dados "
   ]
  },
  {
   "cell_type": "code",
   "execution_count": 9,
   "metadata": {},
   "outputs": [
    {
     "data": {
      "text/plain": [
       "(5573, 24)"
      ]
     },
     "execution_count": 9,
     "metadata": {},
     "output_type": "execute_result"
    }
   ],
   "source": [
    "# Visualizando o novo shape:\n",
    "data_pop.shape"
   ]
  },
  {
   "attachments": {},
   "cell_type": "markdown",
   "metadata": {},
   "source": [
    "Agora temos os mesmos 5573 registros em apenas 24 variáveis"
   ]
  },
  {
   "attachments": {},
   "cell_type": "markdown",
   "metadata": {},
   "source": [
    "Para termos uma visão melhor e mais apropiada do conteúdo de cada variável, realizaremos um dicionário de variáveis, baseado no arquivo CSV presente na pasta `data` chamado `Data_Dictionary.csv`:"
   ]
  }
 ],
 "metadata": {
  "kernelspec": {
   "display_name": "base",
   "language": "python",
   "name": "python3"
  },
  "language_info": {
   "codemirror_mode": {
    "name": "ipython",
    "version": 3
   },
   "file_extension": ".py",
   "mimetype": "text/x-python",
   "name": "python",
   "nbconvert_exporter": "python",
   "pygments_lexer": "ipython3",
   "version": "3.9.12"
  },
  "orig_nbformat": 4,
  "vscode": {
   "interpreter": {
    "hash": "594af92f1fbe2151803567768ef02c6f133f2dd09ab238e968f9d14c9ef1bc27"
   }
  }
 },
 "nbformat": 4,
 "nbformat_minor": 2
}
